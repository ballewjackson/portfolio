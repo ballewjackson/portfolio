{
 "cells": [
  {
   "cell_type": "code",
   "execution_count": 10,
   "metadata": {},
   "outputs": [
    {
     "name": "stdout",
     "output_type": "stream",
     "text": [
      "w8x10: 146.33 N/m\n",
      "w12x96: 1392.01 N/m\n",
      "ts7x7x0.25: 325.28 N/m\n",
      "pipeXXS8: 1051.70 N/m\n",
      "st6x17.5: 254.14 N/m\n"
     ]
    }
   ],
   "source": [
    "cs = [\n",
    "    (\"w8x10\", 1912.42),\n",
    "    (\"w12x96\", 18191.92),\n",
    "    (\"ts7x7x0.25\", 4250.99),\n",
    "    (\"pipeXXS8\", 13744.44),\n",
    "    (\"st6x17.5\", 3321.36)\n",
    "] # mm^2\n",
    "\n",
    "cs = [(val[0], val[1]*1e-6) for val in cs] # get m^2\n",
    "\n",
    "p = 7800 # kg/m^3\n",
    "\n",
    "mass = [val[1] * p for val in cs]\n",
    "g = 9.81\n",
    "weight = [val * g for val in mass] # N/m\n",
    "\n",
    "for index, val in enumerate(weight):\n",
    "    print(f\"{cs[index][0]}: {val:.2f} N/m\")"
   ]
  }
 ],
 "metadata": {
  "kernelspec": {
   "display_name": "Python 3",
   "language": "python",
   "name": "python3"
  },
  "language_info": {
   "codemirror_mode": {
    "name": "ipython",
    "version": 3
   },
   "file_extension": ".py",
   "mimetype": "text/x-python",
   "name": "python",
   "nbconvert_exporter": "python",
   "pygments_lexer": "ipython3",
   "version": "3.11.1"
  }
 },
 "nbformat": 4,
 "nbformat_minor": 2
}
